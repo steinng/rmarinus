{
 "cells": [
  {
   "cell_type": "markdown",
   "metadata": {},
   "source": [
    "# Code used for simulations and obtaining graphs in the article \"...\"\n",
    "\n",
    "# This notebook:\n",
    "### 1. Reads in the SBML model \n",
    "### 2. Predicts growth rate on different carbon sources, with and without added transporters, for Table 2 in section 3.1\n",
    "### 3. Performes sensitivity analysis in section 3.1\n",
    "### 4. Constrains model with experimental data from Supplementary file 2 and optimizes from growth. Bar plot in section 3.3 is subsequently created"
   ]
  },
  {
   "cell_type": "markdown",
   "metadata": {},
   "source": [
    "### Import"
   ]
  },
  {
   "cell_type": "code",
   "execution_count": 3,
   "metadata": {},
   "outputs": [],
   "source": [
    "import cobra\n",
    "from cobra import Reaction\n",
    "import numpy as np\n",
    "import matplotlib.pyplot as plt"
   ]
  },
  {
   "cell_type": "markdown",
   "metadata": {},
   "source": [
    "### Read in SBML model"
   ]
  },
  {
   "cell_type": "code",
   "execution_count": 5,
   "metadata": {},
   "outputs": [],
   "source": [
    "model = cobra.io.read_sbml_model('') # Add path to model here"
   ]
  },
  {
   "cell_type": "markdown",
   "metadata": {},
   "source": [
    "### Predicted growth rates on different carbon sources"
   ]
  },
  {
   "cell_type": "code",
   "execution_count": 9,
   "metadata": {},
   "outputs": [
    {
     "name": "stdout",
     "output_type": "stream",
     "text": [
      "Metabolite\tIn Silico\tIn Silico given transport\n",
      "glucose \t 1.14 \t 1.15\n",
      "galactose \t 1.14 \t 1.15\n",
      "sucrose \t 2.27 \t 2.31\n",
      "lactose \t 2.27 \t 2.31\n",
      "raffinose \t 3.43 \t 3.47\n",
      "maltose \t 2.27 \t 2.31\n",
      "fructose \t 1.12 \t 1.15\n",
      "mannose \t 1.12 \t 1.15\n",
      "ribulose \t 0 \t 0.96\n",
      "xylose \t 0.92 \t 0.96\n",
      "pyruvate \t 0.45 \t 0.46\n",
      "acetate \t 0.31 \t 0.32\n",
      "formate \t 0 \t 0.08\n",
      "starch \t 34.76 \t 34.76\n",
      "xylan \t 11.46 \t 11.46\n",
      "laminarin \t 22.39 \t 22.39\n",
      "alginate \t 28.1 \t 28.1\n",
      "cellulose \t 32.7 \t 32.7\n",
      "malate \t 0 \t 0.55\n",
      "fumarate \t 0 \t 0.55\n",
      "succinate \t 0 \t 0.63\n",
      "citrate \t 0 \t 0.8\n",
      "ornithin \t 0 \t -0.0\n",
      "oxaloacetate \t 0 \t 0.47\n",
      "2-oxoglutarate \t 0 \t 0.71\n",
      "glutamate \t 0.77 \t 0.78\n",
      "aspartate \t 0.54 \t 0.56\n",
      "glutamine \t 0 \t 0.79\n",
      "asparagine \t 0 \t 0.57\n",
      "arginine \t 0 \t 0.0\n",
      "leucine \t 0 \t 0.0\n",
      "phenylalanine \t 0 \t 0.0\n",
      "proline \t 0.88 \t 0.89\n",
      "serine \t 0 \t 0.48\n",
      "threonine \t 0 \t 0.68\n",
      "valine \t 0 \t -0.0\n",
      "alanine \t 0.53 \t 0.55\n",
      "histine \t 0 \t -0.0\n",
      "glycine \t 0 \t 0.28\n",
      "lysine \t 0 \t -0.0\n",
      "tryptophan \t 0 \t 0.0\n",
      "tyrosine \t 0 \t 0.0\n",
      "cysteine \t 0 \t 0.0\n",
      "methionine \t 0 \t 0.0\n",
      "isoleucine \t 0 \t 0.0\n"
     ]
    }
   ],
   "source": [
    "# Names of carbon sources tested\n",
    "name_list = ['glucose', 'galactose', 'sucrose', 'lactose', 'raffinose', 'maltose', 'fructose', 'mannose', 'ribulose', 'xylose', 'pyruvate', 'acetate', 'formate', 'starch', 'xylan', 'laminarin', 'alginate', 'cellulose', 'malate', 'fumarate', 'succinate', 'citrate', 'ornithin', 'oxaloacetate', '2-oxoglutarate', 'glutamate', 'aspartate', 'glutamine', 'asparagine', 'arginine', 'leucine', 'phenylalanine', 'proline', 'serine', 'threonine', 'valine', 'alanine', 'histine', 'glycine', 'lysine', 'tryptophan', 'tyrosine', 'cysteine', 'methionine', 'isoleucine']\n",
    "\n",
    "# IDs of exchange reactions\n",
    "ex_carbon_list = ['EX_glc_e', 'EX_gal_e', 'EX_sucr_e', 'EX_lcts_e', 'EX_raffin_e', 'EX_malt_e', 'EX_fru_e', 'EX_man_e', 'EX_rbl_e', 'EX_xyl__D_e', 'EX_pyr_e', 'EX_ac_e', 'EX_for_e', 'EX_starch1200_e', 'EX_xylan12_e', 'EX_lmn20_e', 'EX_alginate50_e', 'EX_cell500_e', 'EX_mal_e', 'EX_fum_e', 'EX_succ_e', 'EX_cit_e', 'EX_orn_e', 'EX_oaa_e', 'EX_akg_e', 'EX_glu_e', 'EX_asp_e', 'EX_gln_e', 'EX_asn_e', 'EX_arg_e', 'EX_leu_e', 'EX_phe_e', 'EX_pro_e', 'EX_ser_e', 'EX_thr_e', 'EX_val_e', 'EX_ala_e', 'EX_his_e', 'EX_gly_e', 'EX_lys_e', 'EX_trp_e', 'EX_tyr_e', 'EX_cys_e', 'EX_met_e', 'EX_ile_e']\n",
    "\n",
    "# IDs of metabolites\n",
    "carbon_list = ['glc__D_c', 'gal_c', 'sucr_c', 'lcts_c', 'raffin_c', 'malt_c', 'fru_c', 'man_c', 'rbl__D_c', 'xyl__D_c', 'pyr_c', 'ac_c', 'for_c', 'starch1200_e', 'xylan12_e', 'lmn20_e', 'alginate50_e', 'cell500_e', 'mal__L_c', 'fum_c', 'succ_c', 'cit_c', 'orn_c', 'oaa_c', 'akg_c', 'glu__L_c', 'asp__L_c', 'gln__L_c', 'asn__L_c', 'arg__L_c', 'leu__L_c', 'phe__L_c', 'pro__L_c', 'ser__L_c', 'thr__L_c', 'val__L_c', 'ala__L_c', 'his__L_c', 'gly_c', 'lys__L_c', 'trp__L_c', 'tyr__L_c', 'cys__L_c', 'met__L_c', 'ile__L_c']\n",
    "\n",
    "# Glucose uptake set to zero before starting analysis\n",
    "model.reactions.EX_glc_e.lower_bound = 0\n",
    "\n",
    "print('Metabolite\\tIn Silico\\tIn Silico given transport')\n",
    "\n",
    "for x in range(len(carbon_list)): # Loop through the carbon sources\n",
    "    name = name_list[x]\n",
    "    with model: # if exchange reaction of metabolite is in model then allow uptake and optimize, otherwise there is no growth\n",
    "        if ex_carbon_list[x] in model.reactions: \n",
    "            model.reactions.get_by_id(ex_carbon_list[x]).lower_bound = -10\n",
    "            ex_metabolite = model.optimize().objective_value\n",
    "        else:\n",
    "            ex_metabolite = 0\n",
    "    with model: # if exchange reaction of metabolite is not in model, then add it for the cytosol metabolite and optimize for growth\n",
    "        if 'EX_'+carbon_list[x] not in model.reactions:\n",
    "            model.add_reactions([Reaction('DM_'+carbon_list[x])])\n",
    "            model.reactions.get_by_id('DM_'+carbon_list[x]).reaction = carbon_list[x]+' <=> '\n",
    "            model.reactions.get_by_id('DM_'+carbon_list[x]).lower_bound = -10\n",
    "        else:\n",
    "            model.reactions.get_by_id('EX_'+carbon_list[x]).lower_bound = -10\n",
    "        metabolite = model.optimize().objective_value\n",
    "    print(name, '\\t', round(ex_metabolite, 2), '\\t', round(metabolite, 2))"
   ]
  },
  {
   "cell_type": "markdown",
   "metadata": {},
   "source": [
    "### Sensitivity analysis"
   ]
  },
  {
   "cell_type": "code",
   "execution_count": 8,
   "metadata": {},
   "outputs": [
    {
     "name": "stderr",
     "output_type": "stream",
     "text": [
      "C:\\Users\\thordis\\AppData\\Local\\Continuum\\anaconda3\\lib\\site-packages\\ipykernel_launcher.py:45 MatplotlibDeprecationWarning: Adding an axes using the same arguments as a previous axes currently reuses the earlier instance.  In a future version, a new instance will always be created and returned.  Meanwhile, this warning can be suppressed, and the future behavior ensured, by passing a unique label to each axes instance.\n",
      "C:\\Users\\thordis\\AppData\\Local\\Continuum\\anaconda3\\lib\\site-packages\\ipykernel_launcher.py:67 MatplotlibDeprecationWarning: Adding an axes using the same arguments as a previous axes currently reuses the earlier instance.  In a future version, a new instance will always be created and returned.  Meanwhile, this warning can be suppressed, and the future behavior ensured, by passing a unique label to each axes instance.\n"
     ]
    },
    {
     "data": {
      "image/png": "[encoded data removed]",
      "text/plain": [
       "<Figure size 432x288 with 8 Axes>"
      ]
     },
     "metadata": {
      "needs_background": "light"
     },
     "output_type": "display_data"
    }
   ],
   "source": [
    "Metabolites_to_test = ['PROT_RMAR_c', 'EPS_RMAR_c', 'DNA_RMAR_c', 'RNA_RMAR_c', 'LIP_RMAR_c', 'glycogen_c', 'peptido_c', 'lipidAds_c']\n",
    "Metabolite_names = ['Protein', 'Exopolysaccharides', 'DNA', 'RNA', 'Lipid', 'Glycogen', 'Peptidoglycan', 'Lipopolysaccharide']\n",
    "\n",
    "for value, met in enumerate(Metabolites_to_test):\n",
    "    max_list = []\n",
    "    min_list = []\n",
    "    coef_dif = model.reactions.BIOMASS.get_coefficient(model.metabolites.get_by_id(met)) * 0.5\n",
    "    for x in np.arange(0, 10, 0.1):\n",
    "        model.reactions.EX_glc_e.lower_bound = -x\n",
    "        with model:\n",
    "            model.reactions.BIOMASS.add_metabolites({met: coef_dif})\n",
    "            max_list.append(model.optimize().objective_value)\n",
    "        with model:\n",
    "            model.reactions.BIOMASS.add_metabolites({met: -coef_dif})\n",
    "            min_list.append(model.optimize().objective_value)\n",
    "    plt.subplot(3, 3, value+1)\n",
    "    plt.plot(np.arange(0, 10, 0.1), max_list, 'black', lw=0.8)\n",
    "    plt.plot(np.arange(0, 10, 0.1), min_list, 'black', lw=0.8)\n",
    "    plt.title(Metabolite_names[value], fontsize=12)\n",
    "    plt.xlim(0, 10)\n",
    "    plt.ylim(0, 1.2)\n",
    "    plt.tick_params(labelsize=8)\n",
    "    plt.fill_between(np.arange(0, 10, 0.1), max_list, min_list, color='lightblue')\n",
    "    \n",
    "# GAM and NGAM\n",
    "max_list = []\n",
    "min_list = []\n",
    "coef_dif = model.reactions.BIOMASS.get_coefficient(model.metabolites.get_by_id('atp_c')) * 0.5\n",
    "for x in np.arange(0, 10, 0.1):\n",
    "    model.reactions.EX_glc_e.lower_bound = -x\n",
    "    with model:\n",
    "        model.reactions.BIOMASS.add_metabolites({'atp_c': coef_dif})\n",
    "        model.reactions.BIOMASS.add_metabolites({'h2o_c': coef_dif})\n",
    "        model.reactions.BIOMASS.add_metabolites({'adp_c': -coef_dif})\n",
    "        model.reactions.BIOMASS.add_metabolites({'h_c': -coef_dif})\n",
    "        model.reactions.BIOMASS.add_metabolites({'pi_c': -coef_dif})\n",
    "        max_list.append(model.optimize().objective_value)\n",
    "    with model:\n",
    "        model.reactions.BIOMASS.add_metabolites({'atp_c': -coef_dif})\n",
    "        model.reactions.BIOMASS.add_metabolites({'h2o_c': -coef_dif})\n",
    "        model.reactions.BIOMASS.add_metabolites({'adp_c': coef_dif})\n",
    "        model.reactions.BIOMASS.add_metabolites({'h_c': coef_dif})\n",
    "        model.reactions.BIOMASS.add_metabolites({'pi_c': coef_dif})\n",
    "        min_list.append(model.optimize().objective_value)\n",
    "plt.subplot(3, 3, 6)\n",
    "plt.plot(np.arange(0, 10, 0.1), max_list, 'black', lw=0.8)\n",
    "plt.plot(np.arange(0, 10, 0.1), min_list, 'black', lw=0.8)\n",
    "plt.title('GAM', fontsize=12)\n",
    "plt.xlim(0, 10)\n",
    "plt.ylim(0, 1.2)\n",
    "plt.tick_params(labelsize=8)\n",
    "plt.fill_between(np.arange(0, 10, 0.1), max_list, min_list, color='lightblue')\n",
    "\n",
    "max_list = []\n",
    "min_list = []\n",
    "bound = model.reactions.ATPM.upper_bound\n",
    "for x in np.arange(0, 10, 0.1):\n",
    "    model.reactions.EX_glc_e.lower_bound = -x\n",
    "    with model:\n",
    "        model.reactions.ATPM.upper_bound = bound * 1.5\n",
    "        model.reactions.ATPM.lower_bound = bound * 1.5\n",
    "        max_list.append(model.optimize().objective_value)\n",
    "    with model:\n",
    "        model.reactions.ATPM.upper_bound = bound * 0.5\n",
    "        model.reactions.ATPM.lower_bound = bound * 0.5\n",
    "        min_list.append(model.optimize().objective_value)\n",
    "plt.subplot(3, 3, 7)\n",
    "plt.plot(np.arange(0, 10, 0.1), max_list, 'black', lw=0.8)\n",
    "plt.plot(np.arange(0, 10, 0.1), min_list, 'black', lw=0.8)\n",
    "plt.title('NGAM', fontsize=12)\n",
    "plt.xlim(0, 10)\n",
    "plt.ylim(0, 1.2)\n",
    "plt.tick_params(labelsize=8)\n",
    "plt.fill_between(np.arange(0, 10, 0.1), max_list, min_list, color='lightblue')\n",
    "plt.tight_layout()"
   ]
  },
  {
   "cell_type": "markdown",
   "metadata": {},
   "source": [
    "### Constrain model with experimental data and optimize for growth. Create bar plot"
   ]
  },
  {
   "cell_type": "code",
   "execution_count": 10,
   "metadata": {},
   "outputs": [
    {
     "data": {
      "image/png": "[encoded data removed]",
      "text/plain": [
       "<Figure size 252x288 with 1 Axes>"
      ]
     },
     "metadata": {
      "needs_background": "light"
     },
     "output_type": "display_data"
    }
   ],
   "source": [
    "# Constrain model with data from DSM 4252\n",
    "\n",
    "model.reactions.get_by_id('EX_glc_e').lower_bound = -2.44\n",
    "model.reactions.get_by_id('EX_pyr_e').lower_bound = -0.47\n",
    "model.reactions.get_by_id('EX_ac_e').upper_bound = 0.31\n",
    "model.reactions.get_by_id('EX_lac_e').upper_bound = 0.52\n",
    "model.reactions.get_by_id('EX_ac_e').lower_bound = 0.31\n",
    "model.reactions.get_by_id('EX_lac_e').lower_bound = 0.52\n",
    "\n",
    "Predicted_list = []\n",
    "Predicted_list.append(model.optimize().objective_value)\n",
    "\n",
    "# Constrain model with data from ISCAR 493\n",
    "\n",
    "model.reactions.get_by_id('EX_glc_e').lower_bound = -2.30\n",
    "model.reactions.get_by_id('EX_pyr_e').lower_bound = -0.47 # Pyruvate measurements bad - 376 value used\n",
    "model.reactions.get_by_id('EX_ac_e').upper_bound = 0\n",
    "model.reactions.get_by_id('EX_lac_e').upper_bound = 0.57\n",
    "model.reactions.get_by_id('EX_ac_e').lower_bound = 0\n",
    "model.reactions.get_by_id('EX_lac_e').lower_bound = 0.57\n",
    "\n",
    "Predicted_list.append(model.optimize().objective_value)\n",
    "\n",
    "# Create bar plot\n",
    "\n",
    "Name_string = ('DSM 4252', 'ISCAR 493')\n",
    "\n",
    "n_groups = 2\n",
    "\n",
    "fig, ax = plt.subplots(figsize=(3.5,4))\n",
    "\n",
    "index = np.arange(n_groups)\n",
    "bar_width = 0.35\n",
    "\n",
    "\n",
    "# Experimental growth rates for all replicates\n",
    "Replicates = [0,0,1,1]\n",
    "Experimental_Growth_Rates = [0.22, 0.24, 0.26, 0.27]\n",
    "Experimental_list = [0.23, 0.26]\n",
    "\n",
    "# Plot average experimental growth rate - light blue bars\n",
    "ax.bar(index, Experimental_list, bar_width, alpha=0.7, color='tab:blue', label='Experimental growth rate')\n",
    "\n",
    "# Plot experimental growth rates for each replicate used to determine average - dark blue dots\n",
    "ax.plot(Replicates, Experimental_Growth_Rates, 'o', markersize=3, color='darkblue')\n",
    "\n",
    "# Plot predicted growth rates, when model constrained with average experimental values\n",
    "ax.bar(index + bar_width, Predicted_list, bar_width, alpha=0.7, color='tab:orange', label='Predicted growth rate')\n",
    "\n",
    "ax.set_ylabel('Growth rate ($h^{-1}$)', fontsize=12) \n",
    "\n",
    "ax.set_xticks(index + bar_width / 2)\n",
    "ax.set_xticklabels(Name_string, fontsize=12)\n",
    "ax.set_ylim(0,0.35)\n",
    "ax.legend()\n",
    "\n",
    "fig.tight_layout()\n",
    "plt.show()"
   ]
  },
  {
   "cell_type": "code",
   "execution_count": null,
   "metadata": {},
   "outputs": [],
   "source": []
  }
 ],
 "metadata": {
  "kernelspec": {
   "display_name": "Python 3",
   "language": "python",
   "name": "python3"
  },
  "language_info": {
   "codemirror_mode": {
    "name": "ipython",
    "version": 3
   },
   "file_extension": ".py",
   "mimetype": "text/x-python",
   "name": "python",
   "nbconvert_exporter": "python",
   "pygments_lexer": "ipython3",
   "version": "3.7.6"
  }
 },
 "nbformat": 4,
 "nbformat_minor": 2
}
